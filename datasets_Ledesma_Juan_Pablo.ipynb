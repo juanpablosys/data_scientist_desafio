{
 "cells": [
  {
   "cell_type": "code",
   "execution_count": 3,
   "metadata": {},
   "outputs": [],
   "source": [
    "import pandas as pd\n",
    "import numpy as np"
   ]
  },
  {
   "cell_type": "code",
   "execution_count": 4,
   "metadata": {},
   "outputs": [
    {
     "name": "stdout",
     "output_type": "stream",
     "text": [
      "      Socio        Apellido y nombre   Categoria Fecha Nacimiento   Edad  \\\n",
      "0  39874294         ROBERTO NAZARENA  INDIVIDUAL       1996-10-01     27   \n",
      "1  42684357           AGOSTINO SOFIA      VISITA       2000-06-06     23   \n",
      "2  30940920  GUTIERREZ ANDREA LORENA  INDIVIDUAL       1985-01-02     38   \n",
      "3  13765768          ANTONINI NOELIA  INDIVIDUAL       1959-06-25     64   \n",
      "4  43243537       LOMASTRO VALENTINA       STAFF       2001-02-28     22   \n",
      "\n",
      "               Convenio                        Email  Caract celular  \\\n",
      "0  .NINGUNO (NO BORRAR)   nazarenabelen_@hotmail.com              11   \n",
      "1  .NINGUNO (NO BORRAR)        sagostino06@gmail.com              11   \n",
      "2  .NINGUNO (NO BORRAR)  thulmannfitness22@gmail.com              11   \n",
      "3  .NINGUNO (NO BORRAR)                          NaN              11   \n",
      "4  .NINGUNO (NO BORRAR)      valenlomastro@gmail.com              11   \n",
      "\n",
      "    Celular Contrato Vigente Vto Contrato Ult. Asistencia   Dias  \\\n",
      "0  22806923  CLASE DE PRUEBA   2023-08-01      2023-08-23    NaN   \n",
      "1  57225994  CLASE DE PRUEBA   2023-08-01             NaN    NaN   \n",
      "2         0     PLAN MENSUAL   2023-08-01      2023-09-02    2.0   \n",
      "3  59593762  CLASE DE PRUEBA   2023-08-01             NaN    NaN   \n",
      "4  36176244   PLAN SEMESTRAL   2023-08-01      2023-03-02  186.0   \n",
      "\n",
      "   Tasa Uso Pases  Tasa Uso Reservas Actualmente Vigente?  \n",
      "0            0.00                0.0                   SI  \n",
      "1            0.00                0.0                  NaN  \n",
      "2            0.01                0.0                   SI  \n",
      "3            0.00                0.0                   SI  \n",
      "4            0.00                0.0                   SI  \n",
      "<class 'pandas.core.frame.DataFrame'>\n",
      "RangeIndex: 696 entries, 0 to 695\n",
      "Data columns (total 16 columns):\n",
      " #   Column                Non-Null Count  Dtype  \n",
      "---  ------                --------------  -----  \n",
      " 0   Socio                 696 non-null    int64  \n",
      " 1   Apellido y nombre     696 non-null    object \n",
      " 2   Categoria             696 non-null    object \n",
      " 3   Fecha Nacimiento      696 non-null    object \n",
      " 4    Edad                 696 non-null    int64  \n",
      " 5   Convenio              696 non-null    object \n",
      " 6   Email                 462 non-null    object \n",
      " 7   Caract celular        696 non-null    int64  \n",
      " 8   Celular               696 non-null    int64  \n",
      " 9   Contrato Vigente      696 non-null    object \n",
      " 10  Vto Contrato          696 non-null    object \n",
      " 11  Ult. Asistencia       559 non-null    object \n",
      " 12  Dias                  563 non-null    float64\n",
      " 13  Tasa Uso Pases        696 non-null    float64\n",
      " 14  Tasa Uso Reservas     696 non-null    float64\n",
      " 15  Actualmente Vigente?  256 non-null    object \n",
      "dtypes: float64(3), int64(4), object(9)\n",
      "memory usage: 87.1+ KB\n",
      "None\n"
     ]
    }
   ],
   "source": [
    "df = pd.read_csv('ExportContratosVigentes.csv',sep=';')\n",
    "print(df.head())\n",
    "print(df.info())"
   ]
  },
  {
   "cell_type": "code",
   "execution_count": null,
   "metadata": {},
   "outputs": [],
   "source": [
    "df = pd.read_csv('Global YouTube Statistics.csv',sep=';')\n",
    "print(df.head())\n",
    "print(df.info())"
   ]
  }
 ],
 "metadata": {
  "kernelspec": {
   "display_name": "Python 3",
   "language": "python",
   "name": "python3"
  },
  "language_info": {
   "codemirror_mode": {
    "name": "ipython",
    "version": 3
   },
   "file_extension": ".py",
   "mimetype": "text/x-python",
   "name": "python",
   "nbconvert_exporter": "python",
   "pygments_lexer": "ipython3",
   "version": "3.9.5"
  },
  "orig_nbformat": 4
 },
 "nbformat": 4,
 "nbformat_minor": 2
}
