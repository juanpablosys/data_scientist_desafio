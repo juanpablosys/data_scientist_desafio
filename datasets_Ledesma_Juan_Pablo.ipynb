{
 "cells": [
  {
   "cell_type": "code",
   "execution_count": 5,
   "metadata": {},
   "outputs": [],
   "source": [
    "import pandas as pd\n",
    "import numpy as np"
   ]
  },
  {
   "cell_type": "code",
   "execution_count": 6,
   "metadata": {},
   "outputs": [
    {
     "name": "stdout",
     "output_type": "stream",
     "text": [
      "      Socio        Apellido y nombre   Categoria Fecha Nacimiento   Edad  \\\n",
      "0  39874294         ROBERTO NAZARENA  INDIVIDUAL       1996-10-01     27   \n",
      "1  42684357           AGOSTINO SOFIA      VISITA       2000-06-06     23   \n",
      "2  30940920  GUTIERREZ ANDREA LORENA  INDIVIDUAL       1985-01-02     38   \n",
      "3  13765768          ANTONINI NOELIA  INDIVIDUAL       1959-06-25     64   \n",
      "4  43243537       LOMASTRO VALENTINA       STAFF       2001-02-28     22   \n",
      "\n",
      "               Convenio                        Email  Caract celular  \\\n",
      "0  .NINGUNO (NO BORRAR)   nazarenabelen_@hotmail.com              11   \n",
      "1  .NINGUNO (NO BORRAR)        sagostino06@gmail.com              11   \n",
      "2  .NINGUNO (NO BORRAR)  thulmannfitness22@gmail.com              11   \n",
      "3  .NINGUNO (NO BORRAR)                          NaN              11   \n",
      "4  .NINGUNO (NO BORRAR)      valenlomastro@gmail.com              11   \n",
      "\n",
      "    Celular Contrato Vigente Vto Contrato Ult. Asistencia   Dias  \\\n",
      "0  22806923  CLASE DE PRUEBA   2023-08-01      2023-08-23    NaN   \n",
      "1  57225994  CLASE DE PRUEBA   2023-08-01             NaN    NaN   \n",
      "2         0     PLAN MENSUAL   2023-08-01      2023-09-02    2.0   \n",
      "3  59593762  CLASE DE PRUEBA   2023-08-01             NaN    NaN   \n",
      "4  36176244   PLAN SEMESTRAL   2023-08-01      2023-03-02  186.0   \n",
      "\n",
      "   Tasa Uso Pases  Tasa Uso Reservas Actualmente Vigente?  \n",
      "0            0.00                0.0                   SI  \n",
      "1            0.00                0.0                  NaN  \n",
      "2            0.01                0.0                   SI  \n",
      "3            0.00                0.0                   SI  \n",
      "4            0.00                0.0                   SI  \n",
      "<class 'pandas.core.frame.DataFrame'>\n",
      "RangeIndex: 696 entries, 0 to 695\n",
      "Data columns (total 16 columns):\n",
      " #   Column                Non-Null Count  Dtype  \n",
      "---  ------                --------------  -----  \n",
      " 0   Socio                 696 non-null    int64  \n",
      " 1   Apellido y nombre     696 non-null    object \n",
      " 2   Categoria             696 non-null    object \n",
      " 3   Fecha Nacimiento      696 non-null    object \n",
      " 4    Edad                 696 non-null    int64  \n",
      " 5   Convenio              696 non-null    object \n",
      " 6   Email                 462 non-null    object \n",
      " 7   Caract celular        696 non-null    int64  \n",
      " 8   Celular               696 non-null    int64  \n",
      " 9   Contrato Vigente      696 non-null    object \n",
      " 10  Vto Contrato          696 non-null    object \n",
      " 11  Ult. Asistencia       559 non-null    object \n",
      " 12  Dias                  563 non-null    float64\n",
      " 13  Tasa Uso Pases        696 non-null    float64\n",
      " 14  Tasa Uso Reservas     696 non-null    float64\n",
      " 15  Actualmente Vigente?  256 non-null    object \n",
      "dtypes: float64(3), int64(4), object(9)\n",
      "memory usage: 87.1+ KB\n",
      "None\n"
     ]
    }
   ],
   "source": [
    "df = pd.read_csv('ExportContratosVigentes.csv',sep=';')\n",
    "print(df.head())\n",
    "print(df.info())"
   ]
  },
  {
   "cell_type": "code",
   "execution_count": 7,
   "metadata": {},
   "outputs": [
    {
     "name": "stdout",
     "output_type": "stream",
     "text": [
      "  Country name  Year  Life Ladder  Log GDP per capita  Social support  \\\n",
      "0  Afghanistan  2008     3.723590            7.302574        0.450662   \n",
      "1  Afghanistan  2009     4.401778            7.472446        0.552308   \n",
      "2  Afghanistan  2010     4.758381            7.579183        0.539075   \n",
      "3  Afghanistan  2011     3.831719            7.552006        0.521104   \n",
      "4  Afghanistan  2012     3.782938            7.637953        0.520637   \n",
      "\n",
      "   Healthy life expectancy at birth  Freedom to make life choices  Generosity  \\\n",
      "0                         50.500000                      0.718114    0.173169   \n",
      "1                         50.799999                      0.678896    0.195469   \n",
      "2                         51.099998                      0.600127    0.125859   \n",
      "3                         51.400002                      0.495901    0.167723   \n",
      "4                         51.700001                      0.530935    0.241247   \n",
      "\n",
      "   Perceptions of corruption  Positive affect  Negative affect  \\\n",
      "0                   0.881686         0.414297         0.258195   \n",
      "1                   0.850035         0.481421         0.237092   \n",
      "2                   0.706766         0.516907         0.275324   \n",
      "3                   0.731109         0.479835         0.267175   \n",
      "4                   0.775620         0.613513         0.267919   \n",
      "\n",
      "   Confidence in national government  \n",
      "0                           0.612072  \n",
      "1                           0.611545  \n",
      "2                           0.299357  \n",
      "3                           0.307386  \n",
      "4                           0.435440  \n",
      "<class 'pandas.core.frame.DataFrame'>\n",
      "RangeIndex: 2089 entries, 0 to 2088\n",
      "Data columns (total 12 columns):\n",
      " #   Column                             Non-Null Count  Dtype  \n",
      "---  ------                             --------------  -----  \n",
      " 0   Country name                       2089 non-null   object \n",
      " 1   Year                               2089 non-null   int64  \n",
      " 2   Life Ladder                        2089 non-null   float64\n",
      " 3   Log GDP per capita                 2062 non-null   float64\n",
      " 4   Social support                     2076 non-null   float64\n",
      " 5   Healthy life expectancy at birth   2031 non-null   float64\n",
      " 6   Freedom to make life choices       2057 non-null   float64\n",
      " 7   Generosity                         2009 non-null   float64\n",
      " 8   Perceptions of corruption          1976 non-null   float64\n",
      " 9   Positive affect                    2065 non-null   float64\n",
      " 10  Negative affect                    2073 non-null   float64\n",
      " 11  Confidence in national government  1873 non-null   float64\n",
      "dtypes: float64(10), int64(1), object(1)\n",
      "memory usage: 196.0+ KB\n",
      "None\n"
     ]
    }
   ],
   "source": [
    "df = pd.read_csv('World Happiness Report 2005-2021.csv',sep=',')\n",
    "print(df.head())\n",
    "print(df.info())"
   ]
  }
 ],
 "metadata": {
  "kernelspec": {
   "display_name": "Python 3",
   "language": "python",
   "name": "python3"
  },
  "language_info": {
   "codemirror_mode": {
    "name": "ipython",
    "version": 3
   },
   "file_extension": ".py",
   "mimetype": "text/x-python",
   "name": "python",
   "nbconvert_exporter": "python",
   "pygments_lexer": "ipython3",
   "version": "3.9.5"
  },
  "orig_nbformat": 4
 },
 "nbformat": 4,
 "nbformat_minor": 2
}
